{
  "nbformat": 4,
  "nbformat_minor": 0,
  "metadata": {
    "colab": {
      "name": "c1.ipynb",
      "provenance": [],
      "authorship_tag": "ABX9TyPv/l0lnny4jdNj2rtJfHIW",
      "include_colab_link": true
    },
    "kernelspec": {
      "name": "python3",
      "display_name": "Python 3"
    },
    "language_info": {
      "name": "python"
    }
  },
  "cells": [
    {
      "cell_type": "markdown",
      "metadata": {
        "id": "view-in-github",
        "colab_type": "text"
      },
      "source": [
        "<a href=\"https://colab.research.google.com/github/JIHK1480/OPEN/blob/main/c1.ipynb\" target=\"_parent\"><img src=\"https://colab.research.google.com/assets/colab-badge.svg\" alt=\"Open In Colab\"/></a>"
      ]
    },
    {
      "cell_type": "code",
      "execution_count": null,
      "metadata": {
        "id": "sn3w4kM6tiGI"
      },
      "outputs": [],
      "source": [
        "# 데이터분석\n",
        "# - 의사결정을 위한 데이터 인사이트 발굴\n",
        "# - 큰수의 법칙  : 데이터 수가 많아지면 우리가 원하는 확률에 근접하게 됩니다.\n",
        "# - 데이터분석의 도구 : Python, R\n",
        "# - 파이썬은 반복, R은 통계"
      ]
    },
    {
      "cell_type": "code",
      "source": [
        "# 변수\n",
        "x = 3\n",
        "y = 7\n",
        "print(x + y)"
      ],
      "metadata": {
        "colab": {
          "base_uri": "https://localhost:8080/"
        },
        "id": "vb-J7xKTtov2",
        "outputId": "eee765c7-ac09-43c8-b10c-4319af91a310"
      },
      "execution_count": null,
      "outputs": [
        {
          "output_type": "stream",
          "name": "stdout",
          "text": [
            "10\n"
          ]
        }
      ]
    },
    {
      "cell_type": "code",
      "source": [
        "type(x)"
      ],
      "metadata": {
        "colab": {
          "base_uri": "https://localhost:8080/"
        },
        "id": "MGuwo5o4tqM4",
        "outputId": "39c234ea-32a9-4147-db78-2b4f054ca8ee"
      },
      "execution_count": null,
      "outputs": [
        {
          "output_type": "execute_result",
          "data": {
            "text/plain": [
              "int"
            ]
          },
          "metadata": {},
          "execution_count": 3
        }
      ]
    },
    {
      "cell_type": "code",
      "source": [
        "z = '10'"
      ],
      "metadata": {
        "id": "d_uxaX7ittuH"
      },
      "execution_count": null,
      "outputs": []
    },
    {
      "cell_type": "code",
      "source": [
        "z + z"
      ],
      "metadata": {
        "colab": {
          "base_uri": "https://localhost:8080/",
          "height": 35
        },
        "id": "NzErXlI8tve9",
        "outputId": "a935c3ba-d35e-447e-e048-e702b222fa26"
      },
      "execution_count": null,
      "outputs": [
        {
          "output_type": "execute_result",
          "data": {
            "text/plain": [
              "'1010'"
            ],
            "application/vnd.google.colaboratory.intrinsic+json": {
              "type": "string"
            }
          },
          "metadata": {},
          "execution_count": 5
        }
      ]
    },
    {
      "cell_type": "code",
      "source": [
        "#int\n",
        "# float\n",
        "# str(string)"
      ],
      "metadata": {
        "id": "9x6Tpt2NtxU4"
      },
      "execution_count": null,
      "outputs": []
    },
    {
      "cell_type": "code",
      "source": [
        "type(z)"
      ],
      "metadata": {
        "colab": {
          "base_uri": "https://localhost:8080/"
        },
        "id": "v5pSpwqZt0ui",
        "outputId": "da1a8c97-ec88-43a0-becb-356fb8fef26f"
      },
      "execution_count": null,
      "outputs": [
        {
          "output_type": "execute_result",
          "data": {
            "text/plain": [
              "str"
            ]
          },
          "metadata": {},
          "execution_count": 7
        }
      ]
    },
    {
      "cell_type": "code",
      "source": [
        "type(z)"
      ],
      "metadata": {
        "colab": {
          "base_uri": "https://localhost:8080/"
        },
        "id": "81EEHqdPt2CY",
        "outputId": "2b83c423-f2f1-4e91-d75e-11a8257420c7"
      },
      "execution_count": null,
      "outputs": [
        {
          "output_type": "execute_result",
          "data": {
            "text/plain": [
              "str"
            ]
          },
          "metadata": {},
          "execution_count": 8
        }
      ]
    },
    {
      "cell_type": "code",
      "source": [
        "int(z) + int(z) #형변환"
      ],
      "metadata": {
        "colab": {
          "base_uri": "https://localhost:8080/"
        },
        "id": "dYLTA7drt3Sw",
        "outputId": "cd276be8-beae-4657-9d3a-d6ebb1116249"
      },
      "execution_count": null,
      "outputs": [
        {
          "output_type": "execute_result",
          "data": {
            "text/plain": [
              "20"
            ]
          },
          "metadata": {},
          "execution_count": 9
        }
      ]
    },
    {
      "cell_type": "code",
      "source": [
        "# jupyter notebook - python이 실행가능한 환경 ( 데이터 분석에 필요한 대부분의 모듈이 설치되어 있음)\n",
        "# colab - google에서 개발한 jupyter notebook과 유사한 서비스\n",
        "# python - 설치 후, power shell에서 python 파일명.py로 실행가능"
      ],
      "metadata": {
        "id": "5LJXRnK2t4aF"
      },
      "execution_count": null,
      "outputs": []
    },
    {
      "cell_type": "code",
      "source": [
        "name = 'hyeon'\n",
        "age = 25\n",
        "print ( '제 이름은 ' , name,'이고 나이는 ', age,'입니다.')"
      ],
      "metadata": {
        "colab": {
          "base_uri": "https://localhost:8080/"
        },
        "id": "uMcYsQDct7L4",
        "outputId": "1bdd9f49-3638-431a-d241-0d3a1e32938a"
      },
      "execution_count": null,
      "outputs": [
        {
          "output_type": "stream",
          "name": "stdout",
          "text": [
            "제 이름은  hyeon 이고 나이는  25 입니다.\n"
          ]
        }
      ]
    },
    {
      "cell_type": "code",
      "source": [
        "#  python built in function으로 google에 검색\n",
        "print('제 이름은' + name + '이고 나이는 ' + str(age) + '입니다.')"
      ],
      "metadata": {
        "colab": {
          "base_uri": "https://localhost:8080/"
        },
        "id": "V0g029tvt_RO",
        "outputId": "4e759019-722c-4536-f558-a4492a4bfa05"
      },
      "execution_count": null,
      "outputs": [
        {
          "output_type": "stream",
          "name": "stdout",
          "text": [
            "제 이름은hyeon이고 나이는 25입니다.\n"
          ]
        }
      ]
    },
    {
      "cell_type": "code",
      "source": [
        "print('제 이름은 {}이고 제 나이는 {}입니다.'.format(name, age))"
      ],
      "metadata": {
        "colab": {
          "base_uri": "https://localhost:8080/"
        },
        "id": "XfE2UG20uD50",
        "outputId": "b407d507-8510-4346-aded-248c75aee6dc"
      },
      "execution_count": null,
      "outputs": [
        {
          "output_type": "stream",
          "name": "stdout",
          "text": [
            "제 이름은 hyeon이고 제 나이는 25입니다.\n"
          ]
        }
      ]
    },
    {
      "cell_type": "code",
      "source": [
        "print('제 이름은 {1}이고 제 나이는 {1}입니다.'.format(name, age))"
      ],
      "metadata": {
        "colab": {
          "base_uri": "https://localhost:8080/"
        },
        "id": "hzrM2u60uGu2",
        "outputId": "d594e3bc-e29e-47bf-f61a-283540ae00d9"
      },
      "execution_count": null,
      "outputs": [
        {
          "output_type": "stream",
          "name": "stdout",
          "text": [
            "제 이름은 25이고 제 나이는 25입니다.\n"
          ]
        }
      ]
    },
    {
      "cell_type": "code",
      "source": [
        "print(f'제 이름은 {name}이고 제 나이는 {age}입니다.')\n"
      ],
      "metadata": {
        "colab": {
          "base_uri": "https://localhost:8080/"
        },
        "id": "xovu3vkGuIBA",
        "outputId": "ed8fee1d-5652-4fc1-a321-49f7b1c72e60"
      },
      "execution_count": null,
      "outputs": [
        {
          "output_type": "stream",
          "name": "stdout",
          "text": [
            "제 이름은 hyeon이고 제 나이는 25입니다.\n"
          ]
        }
      ]
    },
    {
      "cell_type": "code",
      "source": [
        "#산술연산자\n",
        "# +, -, /, *, **, %\n",
        "\n",
        "x = 3\n",
        "y =7\n",
        "print(x + y)\n",
        "print(x - y)\n",
        "print(y / x) # float(실수)\n",
        "print(y // x) # int(정수)\n",
        "print(x * y)\n",
        "print(y ** x) # 승수\n",
        "print(y % x) # 나머지"
      ],
      "metadata": {
        "colab": {
          "base_uri": "https://localhost:8080/"
        },
        "id": "pZhYSG1buJWd",
        "outputId": "245c38ac-9412-4043-cfe1-f6614c939827"
      },
      "execution_count": null,
      "outputs": [
        {
          "output_type": "stream",
          "name": "stdout",
          "text": [
            "10\n",
            "-4\n",
            "2.3333333333333335\n",
            "2\n",
            "21\n",
            "343\n",
            "1\n"
          ]
        }
      ]
    },
    {
      "cell_type": "code",
      "source": [
        "# 할당연산\n",
        "x = 3\n",
        "x = x + 7\n",
        "x += 7\n",
        "x -= 2\n",
        "x"
      ],
      "metadata": {
        "colab": {
          "base_uri": "https://localhost:8080/"
        },
        "id": "zvXuUGvMuL7M",
        "outputId": "595a2e58-a7df-4dd4-bdfa-d6e4500daca7"
      },
      "execution_count": null,
      "outputs": [
        {
          "output_type": "execute_result",
          "data": {
            "text/plain": [
              "15"
            ]
          },
          "metadata": {},
          "execution_count": 18
        }
      ]
    },
    {
      "cell_type": "code",
      "source": [
        "# 비교연산\n",
        "x = 3\n",
        "y = 7\n",
        "print(x > y)\n",
        "print(x >= y)\n",
        "print(x < y)\n",
        "print(x <= y)\n",
        "print(x == y)\n",
        "print(x != y)"
      ],
      "metadata": {
        "colab": {
          "base_uri": "https://localhost:8080/"
        },
        "id": "-JcXk1jsuOEq",
        "outputId": "1aa6275e-403d-4836-b76f-f72142b3dde9"
      },
      "execution_count": null,
      "outputs": [
        {
          "output_type": "stream",
          "name": "stdout",
          "text": [
            "False\n",
            "False\n",
            "True\n",
            "True\n",
            "False\n",
            "True\n"
          ]
        }
      ]
    },
    {
      "cell_type": "code",
      "source": [
        "# 논리연산\n",
        "x = True # 1\n",
        "y = False # 0\n",
        "# and 곱\n",
        "# or 합\n",
        "\n",
        "print(x and y)\n",
        "print(x or y)\n",
        "print(not y)"
      ],
      "metadata": {
        "colab": {
          "base_uri": "https://localhost:8080/"
        },
        "id": "Mtor52ovuQ2Q",
        "outputId": "fa8d7d21-b121-4967-b7f0-0c28c6b07243"
      },
      "execution_count": null,
      "outputs": [
        {
          "output_type": "stream",
          "name": "stdout",
          "text": [
            "False\n",
            "True\n",
            "True\n"
          ]
        }
      ]
    },
    {
      "cell_type": "code",
      "source": [
        "for i in range(100):\n",
        "    if i % 3 == 0 and i % 5 ==0:\n",
        "        print(i)"
      ],
      "metadata": {
        "colab": {
          "base_uri": "https://localhost:8080/"
        },
        "id": "Sfgcw31cuSYw",
        "outputId": "a69cf2ef-a61d-4191-b802-57cace3f51e8"
      },
      "execution_count": null,
      "outputs": [
        {
          "output_type": "stream",
          "name": "stdout",
          "text": [
            "0\n",
            "15\n",
            "30\n",
            "45\n",
            "60\n",
            "75\n",
            "90\n"
          ]
        }
      ]
    },
    {
      "cell_type": "code",
      "source": [
        "# str(string)\n",
        "s = 'happy ceo h'\n",
        "print(type(s))\n",
        "print(dir(s))"
      ],
      "metadata": {
        "colab": {
          "base_uri": "https://localhost:8080/"
        },
        "id": "epudUdVyuUBm",
        "outputId": "bbe6b7d3-7c01-4964-c91a-96c83f372b07"
      },
      "execution_count": null,
      "outputs": [
        {
          "output_type": "stream",
          "name": "stdout",
          "text": [
            "<class 'str'>\n",
            "['__add__', '__class__', '__contains__', '__delattr__', '__dir__', '__doc__', '__eq__', '__format__', '__ge__', '__getattribute__', '__getitem__', '__getnewargs__', '__gt__', '__hash__', '__init__', '__init_subclass__', '__iter__', '__le__', '__len__', '__lt__', '__mod__', '__mul__', '__ne__', '__new__', '__reduce__', '__reduce_ex__', '__repr__', '__rmod__', '__rmul__', '__setattr__', '__sizeof__', '__str__', '__subclasshook__', 'capitalize', 'casefold', 'center', 'count', 'encode', 'endswith', 'expandtabs', 'find', 'format', 'format_map', 'index', 'isalnum', 'isalpha', 'isascii', 'isdecimal', 'isdigit', 'isidentifier', 'islower', 'isnumeric', 'isprintable', 'isspace', 'istitle', 'isupper', 'join', 'ljust', 'lower', 'lstrip', 'maketrans', 'partition', 'replace', 'rfind', 'rindex', 'rjust', 'rpartition', 'rsplit', 'rstrip', 'split', 'splitlines', 'startswith', 'strip', 'swapcase', 'title', 'translate', 'upper', 'zfill']\n"
          ]
        }
      ]
    },
    {
      "cell_type": "code",
      "source": [
        "s.count('l')\n",
        "s.find('c') # find는 없는 값을 만나면 -1을 출력\n",
        "s.index('c') # index는 없는 값을 만나면 error을 출력\n",
        "# s.format(name, age) -> '제 이름은 {}입니다. 제 나이는 {}입니다'. format(name, age)\n",
        "'-'.join(['010', '3420', '1480'])\n",
        "s.replace('ceo', 'CEO')\n",
        "s.split(' ')\n",
        "'연도,제조사,모델,설명,가격'.split(',')\n",
        "s.upper() #대문자로, lower 소문자로\n",
        "'1001'.zfill(10)"
      ],
      "metadata": {
        "colab": {
          "base_uri": "https://localhost:8080/",
          "height": 35
        },
        "id": "oVqefANwuVWc",
        "outputId": "8770a21d-c168-44cc-bd80-fd5024e281b9"
      },
      "execution_count": null,
      "outputs": [
        {
          "output_type": "execute_result",
          "data": {
            "text/plain": [
              "'0000001001'"
            ],
            "application/vnd.google.colaboratory.intrinsic+json": {
              "type": "string"
            }
          },
          "metadata": {},
          "execution_count": 30
        }
      ]
    },
    {
      "cell_type": "code",
      "source": [
        "#string의 특징\n",
        "s = 'happy ceo h'\n",
        "s[0] #0이란 숫자를 index라고 부릅니다. 호출하는 것을 indexing\n",
        "s[3:7] # 슬라이싱\n",
        "s[-3:]\n",
        "s[:]\n",
        "s[::2]\n",
        "s[::-1]"
      ],
      "metadata": {
        "colab": {
          "base_uri": "https://localhost:8080/",
          "height": 35
        },
        "id": "awC014ZJuW60",
        "outputId": "a9a2df98-1423-49b7-fdb3-a17da5cdc762"
      },
      "execution_count": null,
      "outputs": [
        {
          "output_type": "execute_result",
          "data": {
            "text/plain": [
              "'h oec yppah'"
            ],
            "application/vnd.google.colaboratory.intrinsic+json": {
              "type": "string"
            }
          },
          "metadata": {},
          "execution_count": 31
        }
      ]
    },
    {
      "cell_type": "code",
      "source": [
        ""
      ],
      "metadata": {
        "id": "NLYybYayubtB"
      },
      "execution_count": null,
      "outputs": []
    }
  ]
}