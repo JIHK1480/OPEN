{
  "nbformat": 4,
  "nbformat_minor": 0,
  "metadata": {
    "colab": {
      "name": "c4.ipynb",
      "provenance": [],
      "authorship_tag": "ABX9TyPT48hRQ+qKkFAIAKwJ/5xd"
    },
    "kernelspec": {
      "name": "python3",
      "display_name": "Python 3"
    },
    "language_info": {
      "name": "python"
    }
  },
  "cells": [
    {
      "cell_type": "markdown",
      "source": [
        "# tuple"
      ],
      "metadata": {
        "id": "13dexhKUcUob"
      }
    },
    {
      "cell_type": "code",
      "source": [
        "t = (10, 20, 30, 40, 50)\n",
        "t[0] "
      ],
      "metadata": {
        "colab": {
          "base_uri": "https://localhost:8080/"
        },
        "id": "n2Cce8E2cWwy",
        "outputId": "7a8a5700-7752-4368-c612-7c4ab6725da7"
      },
      "execution_count": 1,
      "outputs": [
        {
          "output_type": "execute_result",
          "data": {
            "text/plain": [
              "10"
            ]
          },
          "metadata": {},
          "execution_count": 1
        }
      ]
    },
    {
      "cell_type": "code",
      "source": [
        "if 6 > 5:\n",
        "    print('hello world')"
      ],
      "metadata": {
        "colab": {
          "base_uri": "https://localhost:8080/"
        },
        "id": "Y8IPEf3TcY0I",
        "outputId": "9871a95e-7827-4958-c924-a0fe368c312d"
      },
      "execution_count": 2,
      "outputs": [
        {
          "output_type": "stream",
          "name": "stdout",
          "text": [
            "hello world\n"
          ]
        }
      ]
    },
    {
      "cell_type": "code",
      "source": [
        "시험점수 = 79\n",
        "용돈 = 20000\n",
        "if 시험점수 > 90:\n",
        "    용돈 +=100000\n",
        "    print('엄마 : 너무 잘했어!')\n",
        "if 시험점수 > 80:\n",
        "    용돈 +=10000\n",
        "    print('엄마 : 잘봤네!')\n",
        "if 시험점수 > 70:\n",
        "    용돈 +=1000\n",
        "    print('엄마 : 오?')\n",
        "if 시험점수 > 60:\n",
        "    용돈 += 0\n",
        "    print('엄마 : 음...')\n",
        "print(용돈)"
      ],
      "metadata": {
        "colab": {
          "base_uri": "https://localhost:8080/"
        },
        "id": "lFwtpv6BcrJk",
        "outputId": "79c2a1f0-8d6a-4afb-9b08-b6fbae8a7784"
      },
      "execution_count": 6,
      "outputs": [
        {
          "output_type": "stream",
          "name": "stdout",
          "text": [
            "엄마 : 오?\n",
            "엄마 : 음...\n",
            "21000\n"
          ]
        }
      ]
    },
    {
      "cell_type": "code",
      "source": [
        "시험점수 = 79\n",
        "용돈 = 20000\n",
        "if 시험점수 > 90:\n",
        "    용돈 +=100000\n",
        "    print('엄마 : 너무 잘했어!')\n",
        "elif 시험점수 > 80:\n",
        "    용돈 +=10000\n",
        "    print('엄마 : 잘봤네!')\n",
        "elif 시험점수 > 70:\n",
        "    용돈 +=1000\n",
        "    print('엄마 : 오?')\n",
        "elif 시험점수 > 60:\n",
        "    용돈 += 0\n",
        "    print('엄마 : 음...')\n",
        "print(용돈)"
      ],
      "metadata": {
        "colab": {
          "base_uri": "https://localhost:8080/"
        },
        "id": "Jybg6q9Kc2tT",
        "outputId": "6e3328a2-dc01-45e4-bac4-f40908ba035f"
      },
      "execution_count": 7,
      "outputs": [
        {
          "output_type": "stream",
          "name": "stdout",
          "text": [
            "엄마 : 오?\n",
            "21000\n"
          ]
        }
      ]
    },
    {
      "cell_type": "code",
      "source": [
        "if False:\n",
        "    print('F')\n",
        "elif False:\n",
        "    print('T')\n",
        "else:\n",
        "    print('W')"
      ],
      "metadata": {
        "colab": {
          "base_uri": "https://localhost:8080/"
        },
        "id": "tBzfSD5VdjAh",
        "outputId": "f7fed8b0-a299-449d-c658-c3442df7364a"
      },
      "execution_count": 8,
      "outputs": [
        {
          "output_type": "stream",
          "name": "stdout",
          "text": [
            "W\n"
          ]
        }
      ]
    },
    {
      "cell_type": "code",
      "source": [
        "for i in range(3):\n",
        "    print(i)\n",
        "    print('hi')\n",
        "print('end')"
      ],
      "metadata": {
        "colab": {
          "base_uri": "https://localhost:8080/"
        },
        "id": "85n-_C5Odx8y",
        "outputId": "1a77dea4-495f-4aaf-f2de-9d4c1b6c7b8b"
      },
      "execution_count": 9,
      "outputs": [
        {
          "output_type": "stream",
          "name": "stdout",
          "text": [
            "0\n",
            "hi\n",
            "1\n",
            "hi\n",
            "2\n",
            "hi\n",
            "end\n"
          ]
        }
      ]
    },
    {
      "cell_type": "code",
      "source": [
        "for i in 'hello':\n",
        "    print(i)\n",
        "    print('world')\n",
        "print('end')"
      ],
      "metadata": {
        "colab": {
          "base_uri": "https://localhost:8080/"
        },
        "id": "T2jwBIPgd550",
        "outputId": "beaadbef-d19e-4f30-8841-b789fde3c06e"
      },
      "execution_count": 11,
      "outputs": [
        {
          "output_type": "stream",
          "name": "stdout",
          "text": [
            "h\n",
            "world\n",
            "e\n",
            "world\n",
            "l\n",
            "world\n",
            "l\n",
            "world\n",
            "o\n",
            "world\n",
            "end\n"
          ]
        }
      ]
    },
    {
      "cell_type": "code",
      "source": [
        "for i in [10, 20, 30]:\n",
        "    print(i)\n",
        "    print('m')\n",
        "print('end')"
      ],
      "metadata": {
        "colab": {
          "base_uri": "https://localhost:8080/"
        },
        "id": "0eUQAx6AeB2S",
        "outputId": "c74480ee-6c26-4931-f4af-b3ea1849df00"
      },
      "execution_count": 13,
      "outputs": [
        {
          "output_type": "stream",
          "name": "stdout",
          "text": [
            "10\n",
            "m\n",
            "20\n",
            "m\n",
            "30\n",
            "m\n",
            "end\n"
          ]
        }
      ]
    },
    {
      "cell_type": "code",
      "source": [
        "for i in { 'one':1, 'two':2, 'three':3}:\n",
        "    print(i)\n",
        "    print('count')\n",
        "print('end')"
      ],
      "metadata": {
        "colab": {
          "base_uri": "https://localhost:8080/"
        },
        "id": "JJ6AwLvfeKAg",
        "outputId": "e66aaca5-a9e0-4c7c-87f6-2a30a9bd25e7"
      },
      "execution_count": 15,
      "outputs": [
        {
          "output_type": "stream",
          "name": "stdout",
          "text": [
            "one\n",
            "count\n",
            "two\n",
            "count\n",
            "three\n",
            "count\n",
            "end\n"
          ]
        }
      ]
    },
    {
      "cell_type": "code",
      "source": [
        "s= 0\n",
        "for i in range(10):\n",
        "    s += i\n",
        "s"
      ],
      "metadata": {
        "colab": {
          "base_uri": "https://localhost:8080/"
        },
        "id": "LX7DcQZDechn",
        "outputId": "66991828-e86c-4376-a585-d8ebbf8498a1"
      },
      "execution_count": 41,
      "outputs": [
        {
          "output_type": "execute_result",
          "data": {
            "text/plain": [
              "45"
            ]
          },
          "metadata": {},
          "execution_count": 41
        }
      ]
    },
    {
      "cell_type": "code",
      "source": [
        "s= 0\n",
        "for i in range(0, 10):\n",
        "    s += i\n",
        "s"
      ],
      "metadata": {
        "colab": {
          "base_uri": "https://localhost:8080/"
        },
        "id": "n7SFiq0Cf0mX",
        "outputId": "2134748d-2dde-467e-a587-98ba32e76501"
      },
      "execution_count": 40,
      "outputs": [
        {
          "output_type": "execute_result",
          "data": {
            "text/plain": [
              "45"
            ]
          },
          "metadata": {},
          "execution_count": 40
        }
      ]
    },
    {
      "cell_type": "code",
      "source": [
        "x = 0\n",
        "while x < 5:\n",
        "  print(x)\n",
        "  x += 1"
      ],
      "metadata": {
        "colab": {
          "base_uri": "https://localhost:8080/"
        },
        "id": "cCKpsJqvgAvN",
        "outputId": "b4af07c0-0a3e-44fb-f9ae-577ded3d00e6"
      },
      "execution_count": 44,
      "outputs": [
        {
          "output_type": "stream",
          "name": "stdout",
          "text": [
            "0\n",
            "1\n",
            "2\n",
            "3\n",
            "4\n"
          ]
        }
      ]
    },
    {
      "cell_type": "code",
      "source": [
        "s = [1, 2, 3]\n",
        "for i in s:\n",
        "    print(i)"
      ],
      "metadata": {
        "colab": {
          "base_uri": "https://localhost:8080/"
        },
        "id": "dhtLmRWvgRDy",
        "outputId": "1b0978bc-bb87-4efe-9c94-912bdb52ec29"
      },
      "execution_count": 45,
      "outputs": [
        {
          "output_type": "stream",
          "name": "stdout",
          "text": [
            "1\n",
            "2\n",
            "3\n"
          ]
        }
      ]
    },
    {
      "cell_type": "code",
      "source": [
        "s =  [1, 2, 3]\n",
        "while s:\n",
        "    print(s.pop())"
      ],
      "metadata": {
        "colab": {
          "base_uri": "https://localhost:8080/"
        },
        "id": "SIWHnK5WgdiE",
        "outputId": "b1740c43-6be5-4913-bf3e-c98c6a427670"
      },
      "execution_count": 46,
      "outputs": [
        {
          "output_type": "stream",
          "name": "stdout",
          "text": [
            "3\n",
            "2\n",
            "1\n"
          ]
        }
      ]
    }
  ]
}