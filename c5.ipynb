{
  "nbformat": 4,
  "nbformat_minor": 0,
  "metadata": {
    "colab": {
      "name": "c5.ipynb",
      "provenance": [],
      "authorship_tag": "ABX9TyPmCo8V5xjbTx6KMwMYhXnn"
    },
    "kernelspec": {
      "name": "python3",
      "display_name": "Python 3"
    },
    "language_info": {
      "name": "python"
    }
  },
  "cells": [
    {
      "cell_type": "code",
      "execution_count": 1,
      "metadata": {
        "colab": {
          "base_uri": "https://localhost:8080/"
        },
        "id": "NDq43fDphFpk",
        "outputId": "9c32f277-ef24-4f82-c6b7-3652d7bbfb24"
      },
      "outputs": [
        {
          "output_type": "execute_result",
          "data": {
            "text/plain": [
              "30"
            ]
          },
          "metadata": {},
          "execution_count": 1
        }
      ],
      "source": [
        "def add(x, y):\n",
        "      return x + y\n",
        "add(10, 20)"
      ]
    },
    {
      "cell_type": "code",
      "source": [
        "def 원넓이(반지름):\n",
        "    return 반지름*반지름*3.14\n",
        "원넓이(100)"
      ],
      "metadata": {
        "colab": {
          "base_uri": "https://localhost:8080/"
        },
        "id": "8oPWgiEDhT5u",
        "outputId": "9c193faf-9255-414f-85cb-9de163c39e63"
      },
      "execution_count": 4,
      "outputs": [
        {
          "output_type": "execute_result",
          "data": {
            "text/plain": [
              "31400.0"
            ]
          },
          "metadata": {},
          "execution_count": 4
        }
      ]
    },
    {
      "cell_type": "code",
      "source": [
        "def 호랑이5번출력하기():\n",
        "    for i in range(5):\n",
        "      print('호랑이')\n",
        "\n",
        "print(호랑이5번출력하기())"
      ],
      "metadata": {
        "colab": {
          "base_uri": "https://localhost:8080/"
        },
        "id": "_Q0AZF92hlnS",
        "outputId": "6d6f2c92-83a7-4893-d529-27e68f1c1366"
      },
      "execution_count": 6,
      "outputs": [
        {
          "output_type": "stream",
          "name": "stdout",
          "text": [
            "호랑이\n",
            "호랑이\n",
            "호랑이\n",
            "호랑이\n",
            "호랑이\n",
            "None\n"
          ]
        }
      ]
    },
    {
      "cell_type": "code",
      "source": [
        "class Al():\n",
        "  maxPeople = 20\n",
        "  maxSpeed = 10\n",
        "  def start(self):\n",
        "      print('close')\n",
        "  def stop(self):\n",
        "      print('open')\n",
        "\n",
        "al = Al()\n",
        "al.maxPeople\n",
        "al.start()"
      ],
      "metadata": {
        "colab": {
          "base_uri": "https://localhost:8080/"
        },
        "id": "X6bqP3k6hsha",
        "outputId": "2fd54123-6b46-498e-eb3f-64237c78358b"
      },
      "execution_count": 9,
      "outputs": [
        {
          "output_type": "stream",
          "name": "stdout",
          "text": [
            "close\n"
          ]
        }
      ]
    },
    {
      "cell_type": "code",
      "source": [
        "l = [20, 10, 30]\n",
        "l.sort()\n",
        "l"
      ],
      "metadata": {
        "colab": {
          "base_uri": "https://localhost:8080/"
        },
        "id": "FubE4I_4iCe_",
        "outputId": "e267ff36-4eb3-4181-88c3-f4f0338e2c97"
      },
      "execution_count": 12,
      "outputs": [
        {
          "output_type": "execute_result",
          "data": {
            "text/plain": [
              "[10, 20, 30]"
            ]
          },
          "metadata": {},
          "execution_count": 12
        }
      ]
    }
  ]
}